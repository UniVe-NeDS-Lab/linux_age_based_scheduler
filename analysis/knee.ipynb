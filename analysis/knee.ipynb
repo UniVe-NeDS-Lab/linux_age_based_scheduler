{
 "cells": [
  {
   "cell_type": "code",
   "execution_count": null,
   "metadata": {},
   "outputs": [],
   "source": [
    "%load_ext autoreload\n",
    "%autoreload 2\n",
    "import matplotlib as mpl  # noqa: F401\n",
    "import matplotlib.pyplot as plt\n",
    "import matplotlib_inline\n",
    "import numpy as np\n",
    "import pandas as pd\n",
    "import phfit\n",
    "import toolkit2lps\n",
    "import utils\n",
    "from kneed import KneeLocator\n",
    "\n",
    "matplotlib_inline.backend_inline.set_matplotlib_formats('svg')\n",
    "plt.rcParams['figure.figsize'] = [14, 9]\n",
    "\n",
    "pd.set_option('future.no_silent_downcasting', True)"
   ]
  },
  {
   "cell_type": "code",
   "execution_count": null,
   "metadata": {},
   "outputs": [],
   "source": [
    "logsa = utils.load_antler_df('../tests/results/6h-pareto1.2-heavy2-fixed/*_streams.json*')\n",
    "logsa.info()"
   ]
  },
  {
   "cell_type": "code",
   "execution_count": null,
   "metadata": {},
   "outputs": [],
   "source": [
    "logsa.describe()"
   ]
  },
  {
   "cell_type": "code",
   "execution_count": null,
   "metadata": {},
   "outputs": [],
   "source": [
    "def kneedle(df):\n",
    "    df = df['size'].value_counts().sort_index()\n",
    "    df = (df * df.index).cumsum()\n",
    "    return KneeLocator(df.index, df.values, curve='concave', direction='increasing')\n",
    "\n",
    "kneedle(logsa).plot_knee_normalized()\n",
    "print(kneedle(logsa).knee)"
   ]
  },
  {
   "cell_type": "code",
   "execution_count": null,
   "metadata": {},
   "outputs": [],
   "source": [
    "df = logsa[logsa['algorithm'] == 'pfifo']\n",
    "t = np.linspace(df['start_at'].min()+60, df['start_at'].max(), 100)\n",
    "\n",
    "k0 = np.array([kneedle(df[df['start_at'] < i]).knee for i in t])\n",
    "plt.plot(t, k0, label='knee on [0, x]')\n",
    "\n",
    "k1 = np.array([kneedle(df[(i-300 < df['start_at'])&(df['start_at'] < i)]).knee for i in t])\n",
    "plt.plot(t, k1, label='knee on [x-300, x]')\n",
    "\n",
    "k2 = np.array([kneedle(df[(i-1800 < df['start_at'])&(df['start_at'] < i)]).knee for i in t])\n",
    "plt.plot(t, k2, label='knee on [x-1800, x]')\n",
    "\n",
    "\n",
    "plt.legend()\n",
    "plt.title('Kneedle knee')\n",
    "plt.xlabel('start_at')\n",
    "plt.ylabel('knee')\n",
    "plt.ylim(0, None)"
   ]
  },
  {
   "cell_type": "code",
   "execution_count": null,
   "metadata": {},
   "outputs": [],
   "source": [
    "a = np.array([1.11713986e-001, 6.38232636e-003, 6.83096088e-001, 2.76915143e-004, 4.39688429e-003, 2.30470844e-002, 1.71086716e-001])\n",
    "\n",
    "B = np.array(\n",
    "    [\n",
    "        [-1.97036236e-001, 0.00000000e000, 0.00000000e000, 0.00000000e000, 0.00000000e000, 0.00000000e000, 0.00000000e000],\n",
    "        [1.87675163e-001, -1.87675163e-001, 0.00000000e000, 0.00000000e000, 0.00000000e000, 0.00000000e000, 0.00000000e000],\n",
    "        [0.00000000e000, 1.84837913e-001, -1.84837913e-001, 0.00000000e000, 0.00000000e000, 0.00000000e000, 0.00000000e000],\n",
    "        [0.00000000e000, 0.00000000e000, 1.06602464e-002, -1.06602464e-002, 0.00000000e000, 0.00000000e000, 0.00000000e000],\n",
    "        [0.00000000e000, 0.00000000e000, 0.00000000e000, 0.00000000e000, -2.87496206e-004, 0.00000000e000, 0.00000000e000],\n",
    "        [0.00000000e000, 0.00000000e000, 0.00000000e000, 0.00000000e000, 0.00000000e000, -2.52611549e-003, 0.00000000e000],\n",
    "        [0.00000000e000, 0.00000000e000, 0.00000000e000, 0.00000000e000, 0.00000000e000, 0.00000000e000, -1.54091661e-002],\n",
    "    ]\n",
    ")\n",
    "\n",
    "toolkit2lps.optimal_threshold(a, B, body=4, tail=3, thmin=10, thmax=2000, rho=0.7)"
   ]
  },
  {
   "cell_type": "code",
   "execution_count": null,
   "metadata": {},
   "outputs": [],
   "source": [
    "cdf = logsa['size'].value_counts(normalize=True).sort_index().cumsum()\n",
    "a, b = phfit.contfit(cdf.index, cdf.values, 4, 3)\n",
    "toolkit2lps.optimal_threshold(a, b, body=4, tail=3, thmin=3e5, thmax=1e9, rho=0.875)"
   ]
  }
 ],
 "metadata": {
  "kernelspec": {
   "display_name": ".venv",
   "language": "python",
   "name": "python3"
  },
  "language_info": {
   "codemirror_mode": {
    "name": "ipython",
    "version": 3
   },
   "file_extension": ".py",
   "mimetype": "text/x-python",
   "name": "python",
   "nbconvert_exporter": "python",
   "pygments_lexer": "ipython3",
   "version": "3.12.3"
  }
 },
 "nbformat": 4,
 "nbformat_minor": 2
}
