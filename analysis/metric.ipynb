{
 "cells": [
  {
   "cell_type": "code",
   "execution_count": null,
   "metadata": {},
   "outputs": [],
   "source": [
    "import glob\n",
    "import gzip\n",
    "\n",
    "import matplotlib.pyplot as plt\n",
    "import matplotlib_inline\n",
    "import numpy as np\n",
    "import orjson\n",
    "import pandas as pd\n",
    "\n",
    "matplotlib_inline.backend_inline.set_matplotlib_formats('svg')\n",
    "plt.rcParams['figure.figsize'] = [19, 8]\n",
    "\n",
    "pd.set_option('future.no_silent_downcasting', True)"
   ]
  },
  {
   "cell_type": "code",
   "execution_count": null,
   "metadata": {},
   "outputs": [],
   "source": [
    "%load_ext autoreload\n",
    "%autoreload 2\n",
    "import utils\n",
    "\n",
    "log_file_globs = [\n",
    "    # '../logs/pow1/*.json.gz',\n",
    "    # '../logs/pow2/*.json.gz',\n",
    "    '../logs/pow3/*.json.gz',\n",
    "    '../logs/pow4/*.json.gz',\n",
    "]\n",
    "\n",
    "logs = utils.load_log_df(log_file_globs)\n",
    "logs.info()"
   ]
  },
  {
   "cell_type": "code",
   "execution_count": null,
   "metadata": {},
   "outputs": [],
   "source": [
    "algorithm_renames = {\n",
    "    'age': 'age+prio+codel',\n",
    "    'pfifofast': 'age+pfifofast',\n",
    "}\n",
    "setup_renames = {\n",
    "    'pow1': '1. 40 actors, 0.2 sec sleep',\n",
    "    'pow2': '2. 40 actors, 0.6 sec sleep',\n",
    "    'pow3': '3. 60 actors, 0.6 sec sleep',\n",
    "    'pow4': '4. 80 actors, 1.0 sec sleep',\n",
    "}\n",
    "\n",
    "logs['algorithm'] = logs['algorithm'].apply(lambda x: algorithm_renames.get(x, x))\n",
    "logs['setup'] = logs['setup'].apply(lambda x: setup_renames.get(x, x))"
   ]
  },
  {
   "cell_type": "code",
   "execution_count": null,
   "metadata": {},
   "outputs": [],
   "source": [
    "def time_bar_plot(data: pd.DataFrame, **kwargs):\n",
    "    data = data.agg(mean_time=('time', 'mean'), sem_time=('time', 'sem'))\n",
    "    data['interval'] = data['sem_time'] * 1.96 # 95% confidence interval\n",
    "    data.unstack().plot(kind='bar', y='mean_time', yerr='interval', rot=kwargs.pop('rot', 0), ylabel='time (s)', **kwargs)"
   ]
  },
  {
   "cell_type": "code",
   "execution_count": null,
   "metadata": {},
   "outputs": [],
   "source": [
    "orjson.loads(gzip.open(next(glob.iglob('../logs/pow3/*.json.gz'))).read())['metadata']"
   ]
  },
  {
   "cell_type": "code",
   "execution_count": null,
   "metadata": {},
   "outputs": [],
   "source": [
    "df = logs.groupby(['setup', 'algorithm'], observed=True).agg(total_data=('size', 'sum'), n_exps=('date', 'nunique'))\n",
    "df['total_data'] = df['total_data'] / df['n_exps'] / (1_000_000_000 / 8 * 1200)\n",
    "# df.loc[df.index.get_level_values(0) == '4way9', ['total_data']] = df.loc[df.index.get_level_values(0) == '4way9', ['total_data']] / 960 * 1200\n",
    "df.unstack().plot(kind='bar', y='total_data', rot=0)\n",
    "plt.axhline(1, linestyle='--')\n",
    "plt.axhline(0.7, linestyle='--')\n",
    "plt.title('Throughput divided by the link capacity of 1 Gbps')"
   ]
  },
  {
   "cell_type": "code",
   "execution_count": null,
   "metadata": {},
   "outputs": [],
   "source": [
    "df = logs.groupby(['setup', 'size']).agg(total_data=('size', 'sum'), n_exps=('date', 'nunique'))\n",
    "df['total_data'] = df['total_data'] / df['n_exps'] / 5\n",
    "df.unstack().plot(kind='bar', y='total_data', ylabel='total data (bytes)', rot=0)\n",
    "plt.title('Total data sent per experiment by each flow class')"
   ]
  },
  {
   "cell_type": "code",
   "execution_count": null,
   "metadata": {},
   "outputs": [],
   "source": [
    "# fig, axes = plt.subplots(1, logs['setup'].nunique(), sharey=True)\n",
    "\n",
    "# for (setup, data), ax in zip(logs.groupby('setup'), axes):\n",
    "#     time_bar_plot(data.groupby(['size', 'algorithm']), ax=ax)\n",
    "#     ax.set_title(setup)\n",
    "#     plt.yscale('log')\n",
    "# fig.suptitle('Mean completion time per connection')\n",
    "# plt.tight_layout()"
   ]
  },
  {
   "cell_type": "code",
   "execution_count": null,
   "metadata": {},
   "outputs": [],
   "source": [
    "fig, axes = plt.subplots(3,2, sharex=True)\n",
    "for ((size, group), ax) in zip(logs.groupby('size'), axes.flatten()):\n",
    "    time_bar_plot(group.groupby(['date', 'algorithm'], observed=False), ax=ax)\n",
    "    ax.set_title(f'size={utils.prettyprint_bytes(size)}')\n",
    "    ax.legend(loc='upper right')\n",
    "fig.suptitle('Mean completion time per connection')\n",
    "plt.tight_layout()"
   ]
  },
  {
   "cell_type": "code",
   "execution_count": null,
   "metadata": {},
   "outputs": [],
   "source": [
    "time_bar_plot(logs.groupby(['setup', 'algorithm']))\n",
    "plt.title('Mean completion time per connection')"
   ]
  },
  {
   "cell_type": "code",
   "execution_count": null,
   "metadata": {},
   "outputs": [],
   "source": [
    "fig, axes = plt.subplots(1, logs['setup'].nunique(), sharey=True)\n",
    "for (setup, data), ax in zip(logs.groupby('setup'), axes):\n",
    "    time_bar_plot(data.groupby(['date', 'algorithm'], observed=True), ax=ax)\n",
    "    ax.set_title(setup)\n",
    "fig.suptitle('Mean completion time per connection')\n",
    "plt.tight_layout()"
   ]
  },
  {
   "cell_type": "code",
   "execution_count": null,
   "metadata": {},
   "outputs": [],
   "source": [
    "# fig, axes = plt.subplots(1, logs['setup'].nunique(), sharey=True)\n",
    "# for (setup, data), ax in zip(logs.groupby('setup'), axes):\n",
    "#     df = data.groupby(['date', 'algorithm'], observed=True).agg(mean_time=('time', lambda x: 2**np.mean(np.log2(x))))\n",
    "#     df.unstack().plot(kind='bar', y='mean_time', ylabel='time (s)', rot=0, ax=ax)\n",
    "#     ax.set_title(setup)\n",
    "# fig.suptitle('Geometric mean completion time per connection')\n",
    "# fig.tight_layout()"
   ]
  },
  {
   "cell_type": "code",
   "execution_count": null,
   "metadata": {},
   "outputs": [],
   "source": [
    "# logs.groupby(['date', 'size']).agg(mean_time=('time', 'mean'))\n",
    "# logs.groupby(['date', 'algorithm']).count()"
   ]
  },
  {
   "cell_type": "code",
   "execution_count": null,
   "metadata": {},
   "outputs": [],
   "source": [
    "df = logs[logs['date'] == logs['date'].cat.as_ordered().max()]\n",
    "time_bins = np.linspace(0, 1200, 150)\n",
    "\n",
    "for algorithm, df_group in df.groupby('algorithm', observed=True):\n",
    "    df_group['start_at'] = df_group['start_at'] - df_group['start_at'].min()\n",
    "    df_group['end_at'] = df_group['start_at'] + df_group['time']\n",
    "\n",
    "    active_counts = pd.DataFrame(index=time_bins, columns=df_group['size'].unique()).fillna(0).infer_objects(copy=False)\n",
    "\n",
    "    for time in time_bins:\n",
    "        active_at_t = df_group[(df_group['start_at'] <= time) & (df_group['end_at'] > time)]  # Instances active at `time`\n",
    "        counts = active_at_t['size'].value_counts()  # Count per size\n",
    "        active_counts.loc[time, counts.index] = counts.values  # Store in DataFrame\n",
    "\n",
    "    active_counts = active_counts.fillna(0)\n",
    "    # active_counts.columns = active_counts.columns.sort_values().map(utils.prettyprint_bytes)\n",
    "    active_counts.plot(kind='area', stacked=True)\n",
    "\n",
    "    plt.title(f'Active instances over time ({algorithm})')\n",
    "    plt.xlabel('time from experiment start (s)')\n",
    "    plt.ylabel('active connections')\n",
    "\n"
   ]
  },
  {
   "cell_type": "code",
   "execution_count": null,
   "metadata": {},
   "outputs": [],
   "source": [
    "for x in np.logspace(5, 8, 5) * 3:\n",
    "    print(round(x, -5), x/300000)"
   ]
  },
  {
   "cell_type": "code",
   "execution_count": null,
   "metadata": {},
   "outputs": [],
   "source": [
    "52*1024*1024"
   ]
  }
 ],
 "metadata": {
  "kernelspec": {
   "display_name": ".venv",
   "language": "python",
   "name": "python3"
  },
  "language_info": {
   "codemirror_mode": {
    "name": "ipython",
    "version": 3
   },
   "file_extension": ".py",
   "mimetype": "text/x-python",
   "name": "python",
   "nbconvert_exporter": "python",
   "pygments_lexer": "ipython3",
   "version": "3.12.3"
  }
 },
 "nbformat": 4,
 "nbformat_minor": 2
}
