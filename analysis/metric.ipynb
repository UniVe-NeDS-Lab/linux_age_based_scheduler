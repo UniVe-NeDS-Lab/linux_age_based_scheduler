{
 "cells": [
  {
   "cell_type": "code",
   "execution_count": null,
   "metadata": {},
   "outputs": [],
   "source": [
    "import matplotlib.pyplot as plt\n",
    "import matplotlib_inline\n",
    "import numpy as np\n",
    "import pandas as pd\n",
    "\n",
    "matplotlib_inline.backend_inline.set_matplotlib_formats('svg')\n",
    "plt.rcParams['figure.figsize'] = [19, 8]"
   ]
  },
  {
   "cell_type": "code",
   "execution_count": null,
   "metadata": {},
   "outputs": [],
   "source": [
    "import utils\n",
    "\n",
    "log_file_globs = ['../logs/4way3/*.json.gz', '../logs/4way4/*.json.gz', '../logs/4way5/*.json.gz', '../logs/4way6/*.json.gz']\n",
    "\n",
    "logs = utils.load_log_df(log_file_globs)\n",
    "logs.info()"
   ]
  },
  {
   "cell_type": "code",
   "execution_count": null,
   "metadata": {},
   "outputs": [],
   "source": [
    "algorithm_renames = {\n",
    "    'age': 'age+prio+codel',\n",
    "    'pfifofast': 'age+pfifofast',\n",
    "}\n",
    "\n",
    "logs['algorithm'] = logs['algorithm'].apply(lambda x: algorithm_renames.get(x, x))"
   ]
  },
  {
   "cell_type": "code",
   "execution_count": null,
   "metadata": {},
   "outputs": [],
   "source": [
    "logs.describe(include='all')"
   ]
  },
  {
   "cell_type": "code",
   "execution_count": null,
   "metadata": {},
   "outputs": [],
   "source": [
    "def time_bar_plot(data: pd.DataFrame, **kwargs):\n",
    "    data = data.agg(mean_time=('time', 'mean'), sem_time=('time', 'sem'))\n",
    "    data['interval'] = data['sem_time'] * 1.96 # 95% confidence interval\n",
    "    data.unstack().plot(kind='bar', y='mean_time', yerr='interval', rot=45, ylabel='time (s)', **kwargs)"
   ]
  },
  {
   "cell_type": "code",
   "execution_count": null,
   "metadata": {},
   "outputs": [],
   "source": [
    "df = logs.groupby(['date', 'algorithm']).agg(total_data=('size', 'sum'))\n",
    "df.unstack().plot(kind='bar', y='total_data', ylabel='total data (bytes)', rot=45)\n",
    "plt.axhline(1_000_000_000 / 8 * 480, linestyle='--')\n",
    "plt.axhline(1_000_000_000 / 8 * 960, linestyle='--')"
   ]
  },
  {
   "cell_type": "code",
   "execution_count": null,
   "metadata": {},
   "outputs": [],
   "source": [
    "time_bar_plot(logs.groupby(['date', 'algorithm']))"
   ]
  },
  {
   "cell_type": "code",
   "execution_count": null,
   "metadata": {},
   "outputs": [],
   "source": [
    "time_bar_plot(logs.groupby(['setup', 'algorithm']))"
   ]
  },
  {
   "cell_type": "code",
   "execution_count": null,
   "metadata": {},
   "outputs": [],
   "source": [
    "time_bar_plot(logs.groupby(['setup', 'size', 'algorithm']))\n",
    "plt.yscale('log')"
   ]
  },
  {
   "cell_type": "code",
   "execution_count": null,
   "metadata": {},
   "outputs": [],
   "source": [
    "_, axes = plt.subplots(2, 2, sharex=True)\n",
    "for ((size, group), ax) in zip(logs.groupby('size'), axes.flatten()):\n",
    "    time_bar_plot(group.groupby(['setup', 'algorithm']), ax=ax)\n",
    "    ax.set_title(f'size={utils.prettyprint_bytes(size)}')"
   ]
  },
  {
   "cell_type": "code",
   "execution_count": null,
   "metadata": {},
   "outputs": [],
   "source": [
    "df = logs.loc[logs['setup'].isin(['4way4', '4way5'])]\n",
    "\n",
    "_, axes = plt.subplots(2, 2, sharex=True)\n",
    "for ((size, group), ax) in zip(df.groupby('size'), axes.flatten()):\n",
    "    group.boxplot(column=['time'], by=['algorithm'], grid=False, rot=45, fontsize=8, showfliers=False, ax=ax)\n",
    "    ax.set_title(f'size={utils.prettyprint_bytes(size)}')\n",
    "    ax.set_ylabel('time (s)')"
   ]
  },
  {
   "cell_type": "code",
   "execution_count": null,
   "metadata": {},
   "outputs": [],
   "source": [
    "df = logs.groupby(['date', 'algorithm']).agg(mean_time=('time', lambda x: np.average(x, weights=logs.loc[x.index, 'size'])))\n",
    "df.unstack().plot(kind='bar', y='mean_time', ylabel='time (s)', rot=45)"
   ]
  },
  {
   "cell_type": "code",
   "execution_count": null,
   "metadata": {},
   "outputs": [],
   "source": [
    "df = logs.groupby(['date', 'algorithm']).agg(mean_time=('time', lambda x: 2**np.mean(np.log2(x))))\n",
    "\n",
    "df.unstack().plot(kind='bar', y='mean_time', rot=45, ylabel='time (s)')"
   ]
  },
  {
   "cell_type": "code",
   "execution_count": null,
   "metadata": {},
   "outputs": [],
   "source": [
    "df = logs.groupby(['date', 'algorithm']).agg(\n",
    "    mean_time=('time', lambda x: 2 ** np.average(np.log2(x), weights=logs.loc[x.index, 'size']))\n",
    ")\n",
    "\n",
    "df.unstack().plot(kind='bar', y='mean_time', rot=45, ylabel='time (s)')"
   ]
  },
  {
   "cell_type": "code",
   "execution_count": null,
   "metadata": {},
   "outputs": [],
   "source": [
    "df = logs.groupby(['size', 'date']).agg(total_data=('size', 'sum'))\n",
    "df.unstack().plot(kind='bar', y='total_data', ylabel='total data (bytes)', rot=45)"
   ]
  },
  {
   "cell_type": "code",
   "execution_count": null,
   "metadata": {},
   "outputs": [],
   "source": [
    "logs.groupby(['date']).agg(mean_size=('size', 'mean'))"
   ]
  },
  {
   "cell_type": "code",
   "execution_count": null,
   "metadata": {},
   "outputs": [],
   "source": [
    "utils.prettyprint_bytes(logs['size'].sum())"
   ]
  },
  {
   "cell_type": "code",
   "execution_count": null,
   "metadata": {},
   "outputs": [],
   "source": []
  },
  {
   "cell_type": "code",
   "execution_count": null,
   "metadata": {},
   "outputs": [],
   "source": [
    "df = logs[logs['date'] == '1739456726']\n",
    "bins = np.arange(0, 960, 1)\n",
    "time_bins = np.linspace(0, 960, 100)\n",
    "\n",
    "for algorithm, df_group in df.groupby('algorithm'):\n",
    "    df_group['start_at'] = df_group['start_at'] - df_group['start_at'].min()\n",
    "    df_group['end_at'] = df_group['start_at'] + df_group['time']\n",
    "\n",
    "    active_counts = pd.DataFrame(index=time_bins, columns=df_group['size'].unique()).fillna(0)\n",
    "\n",
    "    for time in time_bins:\n",
    "        active_at_t = df_group[(df_group['start_at'] <= time) & (df_group['end_at'] > time)]  # Instances active at `time`\n",
    "        counts = active_at_t['size'].value_counts()  # Count per type\n",
    "        active_counts.loc[time, counts.index] = counts.values  # Store in DataFrame\n",
    "\n",
    "    active_counts = active_counts.fillna(0)\n",
    "    active_counts.plot(kind='area', stacked=True)\n",
    "\n",
    "    plt.title(f'Active instances over time ({algorithm})')\n",
    "\n"
   ]
  }
 ],
 "metadata": {
  "kernelspec": {
   "display_name": ".venv",
   "language": "python",
   "name": "python3"
  },
  "language_info": {
   "codemirror_mode": {
    "name": "ipython",
    "version": 3
   },
   "file_extension": ".py",
   "mimetype": "text/x-python",
   "name": "python",
   "nbconvert_exporter": "python",
   "pygments_lexer": "ipython3",
   "version": "3.12.3"
  }
 },
 "nbformat": 4,
 "nbformat_minor": 2
}
