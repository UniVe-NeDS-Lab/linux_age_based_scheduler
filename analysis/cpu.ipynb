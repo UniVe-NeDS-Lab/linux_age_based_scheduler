{
 "cells": [
  {
   "cell_type": "code",
   "execution_count": null,
   "id": "0",
   "metadata": {},
   "outputs": [],
   "source": [
    "%load_ext autoreload\n",
    "%autoreload 2\n",
    "import glob\n",
    "from itertools import chain\n",
    "\n",
    "import matplotlib as mpl\n",
    "import matplotlib.pyplot as plt\n",
    "import matplotlib_inline\n",
    "import numpy as np\n",
    "import orjson\n",
    "import pandas as pd\n",
    "\n",
    "matplotlib_inline.backend_inline.set_matplotlib_formats('svg')\n",
    "plt.rcParams['figure.figsize'] = [14, 9]\n",
    "\n",
    "pd.set_option('future.no_silent_downcasting', True)"
   ]
  },
  {
   "cell_type": "code",
   "execution_count": null,
   "id": "1",
   "metadata": {},
   "outputs": [],
   "source": []
  },
  {
   "cell_type": "code",
   "execution_count": null,
   "id": "2",
   "metadata": {},
   "outputs": [],
   "source": [
    "algo_order = [\n",
    "    'age-pfifofast',\n",
    "    'pfifo',\n",
    "    'age-cake',\n",
    "    'cake',\n",
    "    'age-prio-fqcodel',\n",
    "    'fqcodel',\n",
    "    'age-prio-codel',\n",
    "    'codel',\n",
    "    'age-prio-fqpie',\n",
    "    'fqpie',\n",
    "    'age-prio-pie',\n",
    "    'pie',\n",
    "]\n",
    "\n",
    "algonames = ['FIFO', 'CAKE', 'FQ-CoDel', 'CoDel', 'FQ-PIE', 'PIE']\n",
    "algonames = chain.from_iterable((x,x) for x in algonames)\n",
    "algotoname = dict(zip(algo_order, algonames))\n"
   ]
  },
  {
   "cell_type": "code",
   "execution_count": null,
   "id": "3",
   "metadata": {},
   "outputs": [],
   "source": [
    "import re\n",
    "\n",
    "testname_match_antler = re.compile(r'.*/([^/]+)/closedloop_([a-z\\-]+)_procstat-(client|server).json')\n",
    "def load_procstat(filename):\n",
    "    with open(filename, 'rb') as f:\n",
    "        df = pd.DataFrame(orjson.loads(f.read()))\n",
    "    df['time'] = pd.to_datetime(df['time'], utc=True)\n",
    "    df['time'] = df['time'] - df['time'].min()\n",
    "    df['filename'] = filename\n",
    "    date, algo, node = testname_match_antler.match(filename).groups()\n",
    "    df['date'] = date\n",
    "    df['algorithm'] = pd.Categorical([algo]*len(df), categories=algo_order, ordered=True)\n",
    "    df['node'] = pd.Categorical([node]*len(df), categories=['client', 'server'], ordered=True)\n",
    "    x = df['/proc/stat'].str.split()\n",
    "    df['cpu_user'] = x.str[1].astype(int)\n",
    "    df['cpu_system'] = x.str[3].astype(int)\n",
    "    df['cpu_idle'] = x.str[4].astype(int)\n",
    "    df['cpu_iowait'] = x.str[5].astype(int)\n",
    "    df['cpu_irq'] = x.str[6].astype(int)\n",
    "    df['cpu_softirq'] = x.str[7].astype(int)\n",
    "    return df\n",
    "\n",
    "pstats = pd.concat(load_procstat(filename) for filename in glob.glob('../tests/results/10gbps/*/*_procstat-*.json'))\n",
    "pstats.info()"
   ]
  },
  {
   "cell_type": "code",
   "execution_count": null,
   "id": "4",
   "metadata": {},
   "outputs": [],
   "source": [
    "def tot_cpu(series):\n",
    "    return series.max() - series.min()\n",
    "\n",
    "df = pstats.groupby(['date', 'node', 'algorithm'], observed=True).agg({c: (tot_cpu) for c in pstats.columns if c.startswith('cpu_')}).unstack('node') / (4*3600) / 100\n",
    "# df = df[df.index.droplevel(1).str.contains('newpie') & (df.index.droplevel(1) != 'newpie1') | ~df.index.droplevel(0).str.contains('pie')]\n",
    "df = df[df.index.droplevel(1).str.contains('newpie') & (df.index.droplevel(1) != 'newpie1') | ~df.index.droplevel(0).str.contains('pie') & (df.index.droplevel(1) != 'dead')]\n",
    "df = df.groupby(['algorithm']).mean()\n",
    "df"
   ]
  },
  {
   "cell_type": "code",
   "execution_count": null,
   "id": "5",
   "metadata": {},
   "outputs": [],
   "source": [
    "def name(x):\n",
    "    if x.startswith('age-'):\n",
    "        return 'Size-b. ' + algotoname[x]\n",
    "    return algotoname[x]\n",
    "\n",
    "cols = [\n",
    "    ('cpu_user', 'client'),\n",
    "    ('cpu_system', 'client'),\n",
    "    ('cpu_iowait', 'client'),\n",
    "    ('cpu_irq', 'client'),\n",
    "    ('cpu_softirq', 'client'),\n",
    "]\n",
    "\n",
    "print('\\\\hline')\n",
    "print('{Algorithm} & {User} & {System} & {IO Wait} & {IRQ} & {Soft IRQ} \\\\\\\\')\n",
    "print('\\\\hline \\\\hline')\n",
    "\n",
    "for row in df[cols].itertuples():\n",
    "    print(\n",
    "        f'{name(row.Index):<20} & '\n",
    "        f'{row[1]:.3g} & {row[2]:.3g} & {row[3]:.3g} & {row[4]:.3g} & {row[5]:.3g} '\n",
    "        '\\\\\\\\',\n",
    "    )\n",
    "    if not row.Index.startswith('age-'):\n",
    "        print('\\\\hline')"
   ]
  }
 ],
 "metadata": {
  "kernelspec": {
   "display_name": ".venv",
   "language": "python",
   "name": "python3"
  },
  "language_info": {
   "codemirror_mode": {
    "name": "ipython",
    "version": 3
   },
   "file_extension": ".py",
   "mimetype": "text/x-python",
   "name": "python",
   "nbconvert_exporter": "python",
   "pygments_lexer": "ipython3",
   "version": "3.12.3"
  }
 },
 "nbformat": 4,
 "nbformat_minor": 5
}
