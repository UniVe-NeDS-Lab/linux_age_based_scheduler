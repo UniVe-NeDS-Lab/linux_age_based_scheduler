{
 "cells": [
  {
   "cell_type": "code",
   "execution_count": null,
   "metadata": {},
   "outputs": [],
   "source": [
    "%load_ext autoreload\n",
    "%autoreload 2\n",
    "import math\n",
    "\n",
    "import matplotlib.pyplot as plt\n",
    "import matplotlib_inline\n",
    "import numpy as np\n",
    "import phfit\n",
    "import toolkit2lps\n",
    "from pareto import discretize, paretoCDF, paretoICDF\n",
    "\n",
    "matplotlib_inline.backend_inline.set_matplotlib_formats('svg')\n",
    "plt.rcParams['figure.figsize'] = [14, 9]"
   ]
  },
  {
   "cell_type": "code",
   "execution_count": null,
   "metadata": {},
   "outputs": [],
   "source": [
    "n = 100000\n",
    "fig, [ax0, ax1] = plt.subplots(1, 2)\n",
    "for a in [1.01, 1.05, 1.1, 1.2, 1.3, 1.4]:\n",
    "    x = paretoICDF(n, a=a, lb=3e5, ub=1e9)\n",
    "    ax0.plot(x, np.cumsum(x)/np.sum(x), label=f'a={a}')\n",
    "    ax1.bar(str(a), np.mean(x))\n",
    "ax0.legend()\n",
    "ax0.set_ylabel('cumulative probability')\n",
    "ax0.set_xlabel('x')\n",
    "ax0.set_title('CDF')\n",
    "ax1.set_xlabel('alpha')\n",
    "ax1.set_ylabel('x')\n",
    "ax1.set_title('Mean of distribution')\n",
    "fig.suptitle(f'Pareto CDF and mean, n={len(u)} samples of x with equal probability')\n",
    "fig.tight_layout()"
   ]
  },
  {
   "cell_type": "code",
   "execution_count": null,
   "metadata": {},
   "outputs": [],
   "source": [
    "n = 250\n",
    "fig, [ax0, ax1] = plt.subplots(1, 2)\n",
    "for a in [1.2]:\n",
    "    x = np.logspace(math.log(300*1024, 1024), 3, n, base=1024)\n",
    "    x, p = paretoCDF(x, a=a)\n",
    "    x, p = discretize(x, p)\n",
    "\n",
    "    ax0.plot(x, np.cumsum(p*x)/np.sum(p*x), label=f'a={a}')\n",
    "    ax0.axvline(x=55*1024**2, color='red', linestyle='--')\n",
    "    ax0.axvline(x=90475270, color='blue', linestyle='--')\n",
    "    ax1.bar(str(a), np.mean(p*x))\n",
    "\n",
    "ax0.legend()\n",
    "ax0.legend()\n",
    "ax0.set_ylabel('cumulative probability')\n",
    "ax0.set_xlabel('x')\n",
    "ax0.set_title('CDF')\n",
    "ax1.set_xlabel('alpha')\n",
    "ax1.set_ylabel('x')\n",
    "ax1.set_title('Mean of distribution')\n",
    "fig.suptitle(f'Pareto ? and mean, n={n} samples exponentially spaced over x and discretized probability')"
   ]
  },
  {
   "cell_type": "code",
   "execution_count": null,
   "metadata": {},
   "outputs": [],
   "source": [
    "with open('../tests/traffic.cue', 'w') as file:\n",
    "    n = 250\n",
    "    x = np.logspace(math.log(300*1024, 1024), 3, n, base=1024)\n",
    "    x, p = paretoCDF(a=1.2, x=x)\n",
    "    x, p = discretize(x, p)\n",
    "    file.write(f'package tests\\n\\n_connsizespareto: [{\",\".join(map(str,x))}]\\n_connprobpareto: [{\",\".join(map(str,p))}]')"
   ]
  },
  {
   "cell_type": "code",
   "execution_count": null,
   "metadata": {},
   "outputs": [],
   "source": [
    "# with open('../PhFit/data', 'w') as file:\n",
    "#     n = 250\n",
    "#     x = np.logspace(math.log(300*1024, 1024), 3, n, base=1024)\n",
    "#     x, p = paretoCDF(a=1.2, x=x)\n",
    "#     # x, p = discretize(x, p)\n",
    "#     for xi, pi in zip(x, p):\n",
    "#         if 0 < pi < 1:\n",
    "#             file.write(f'{xi} {pi}\\n')"
   ]
  },
  {
   "cell_type": "code",
   "execution_count": null,
   "metadata": {},
   "outputs": [],
   "source": [
    "n = 250\n",
    "x = np.logspace(math.log(300*1024, 1024), 3, n, base=1024)\n",
    "x, p = paretoCDF(x, a=1.2)\n",
    "a, b = phfit.contfit(x, p, 4, 3)\n",
    "toolkit2lps.optimal_threshold(a, b, body=4, tail=3, thmin=3e5, thmax=1e9, rho=0.875)"
   ]
  }
 ],
 "metadata": {
  "kernelspec": {
   "display_name": ".venv",
   "language": "python",
   "name": "python3"
  },
  "language_info": {
   "codemirror_mode": {
    "name": "ipython",
    "version": 3
   },
   "file_extension": ".py",
   "mimetype": "text/x-python",
   "name": "python",
   "nbconvert_exporter": "python",
   "pygments_lexer": "ipython3",
   "version": "3.12.3"
  }
 },
 "nbformat": 4,
 "nbformat_minor": 2
}
