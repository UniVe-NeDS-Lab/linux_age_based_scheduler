{
 "cells": [
  {
   "cell_type": "code",
   "execution_count": null,
   "metadata": {},
   "outputs": [],
   "source": [
    "import math\n",
    "\n",
    "import matplotlib.pyplot as plt\n",
    "import matplotlib_inline\n",
    "import numpy as np\n",
    "\n",
    "matplotlib_inline.backend_inline.set_matplotlib_formats('svg')\n",
    "plt.rcParams['figure.figsize'] = [14, 9]"
   ]
  },
  {
   "cell_type": "code",
   "execution_count": null,
   "metadata": {},
   "outputs": [],
   "source": [
    "def paretoICDF(n=1000, a=1.2, lb=300*1024, ub=1*1024**3):\n",
    "    u = np.linspace(0, 1, n)\n",
    "    lb, ub = np.power(lb, a), np.power(ub, a)\n",
    "    x = - (u*ub - u*lb - ub) / (ub*lb)\n",
    "    x = np.power(x, -1/a)\n",
    "    x = np.round(x, 0).astype(int)\n",
    "    return x"
   ]
  },
  {
   "cell_type": "code",
   "execution_count": null,
   "metadata": {},
   "outputs": [],
   "source": [
    "n = 100000\n",
    "fig, [ax0, ax1] = plt.subplots(1, 2)\n",
    "for a in [1.01, 1.05, 1.1, 1.2, 1.3, 1.4]:\n",
    "    x = paretoICDF(a=a, n=n)\n",
    "    ax0.plot(x, np.cumsum(x)/np.sum(x), label=f'a={a}')\n",
    "    ax1.bar(str(a), np.mean(x))\n",
    "ax0.legend()\n",
    "ax0.set_ylabel('cumulative probability')\n",
    "ax0.set_xlabel('x')\n",
    "ax0.set_title('CDF')\n",
    "ax1.set_xlabel('alpha')\n",
    "ax1.set_ylabel('x')\n",
    "ax1.set_title('Mean of distribution')\n",
    "fig.suptitle(f'Pareto CDF and mean, n={n} samples of x with equal probability')\n",
    "fig.tight_layout()"
   ]
  },
  {
   "cell_type": "code",
   "execution_count": null,
   "metadata": {},
   "outputs": [],
   "source": [
    "def paretoCDF(n=1000, a=1.2, lb=300*1024, ub=1*1024**3, x=None):\n",
    "    if x is None:\n",
    "        x = np.linspace(lb, ub, n)\n",
    "    x = np.round(x, 0).astype(int)\n",
    "    p = (1 - np.power(lb, a)*np.power(x, -a)) / (1 - np.power(lb/ub, a))\n",
    "    return x, p"
   ]
  },
  {
   "cell_type": "code",
   "execution_count": null,
   "metadata": {},
   "outputs": [],
   "source": [
    "def discretize(x, cdf):\n",
    "    xx = np.convolve(x, [.5,.5], 'valid')\n",
    "    pp = np.convolve(cdf, [1, -1], 'valid')\n",
    "    xx = np.round(xx, 0).astype(int)\n",
    "    return xx, pp"
   ]
  },
  {
   "cell_type": "code",
   "execution_count": null,
   "metadata": {},
   "outputs": [],
   "source": [
    "n = 250\n",
    "fig, [ax0, ax1] = plt.subplots(1, 2)\n",
    "for a in [0.8, 1.01, 1.05, 1.1, 1.2, 1.3, 1.4]:\n",
    "    x = np.logspace(math.log(300*1024, 1024), 3, n, base=1024)\n",
    "    x, p = paretoCDF(a=a, x=x)\n",
    "    x, p = discretize(x, p)\n",
    "\n",
    "    ax0.plot(x, np.cumsum(p*x)/np.sum(p*x), label=f'a={a}')\n",
    "    ax0.axvline(x=55*1024**2, color='red', linestyle='--')\n",
    "    ax1.bar(str(a), np.mean(p*x))\n",
    "\n",
    "ax0.legend()\n",
    "ax0.legend()\n",
    "ax0.set_ylabel('cumulative probability')\n",
    "ax0.set_xlabel('x')\n",
    "ax0.set_title('CDF')\n",
    "ax1.set_xlabel('alpha')\n",
    "ax1.set_ylabel('x')\n",
    "ax1.set_title('Mean of distribution')\n",
    "fig.suptitle(f'Pareto CDF and mean, n={n} samples exponentially spaced over x and discretized probability')"
   ]
  },
  {
   "cell_type": "code",
   "execution_count": null,
   "metadata": {},
   "outputs": [],
   "source": [
    "# with open('../tests/traffic.cue', 'w') as file:\n",
    "#     x = paretoICDF(a=1.2, n=1000)\n",
    "#     file.write(f'package tests\\n\\n_connsizespareto: [{\",\".join(map(str,x))}]')"
   ]
  },
  {
   "cell_type": "code",
   "execution_count": null,
   "metadata": {},
   "outputs": [],
   "source": [
    "with open('../tests/traffic.cue', 'w') as file:\n",
    "    n = 250\n",
    "    x = np.logspace(math.log(300*1024, 1024), 3, n, base=1024)\n",
    "    x, p = paretoCDF(a=1.2, x=x)\n",
    "    x, p = discretize(x, p)\n",
    "    file.write(f'package tests\\n\\n_connsizespareto: [{\",\".join(map(str,x))}]\\n_connprobpareto: [{\",\".join(map(str,p))}]')"
   ]
  }
 ],
 "metadata": {
  "kernelspec": {
   "display_name": ".venv",
   "language": "python",
   "name": "python3"
  },
  "language_info": {
   "codemirror_mode": {
    "name": "ipython",
    "version": 3
   },
   "file_extension": ".py",
   "mimetype": "text/x-python",
   "name": "python",
   "nbconvert_exporter": "python",
   "pygments_lexer": "ipython3",
   "version": "3.12.3"
  }
 },
 "nbformat": 4,
 "nbformat_minor": 2
}
