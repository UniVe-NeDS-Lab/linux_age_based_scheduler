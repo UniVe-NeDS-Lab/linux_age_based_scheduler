{
 "cells": [
  {
   "cell_type": "code",
   "execution_count": null,
   "metadata": {},
   "outputs": [],
   "source": [
    "%load_ext autoreload\n",
    "%autoreload 2\n",
    "import math\n",
    "\n",
    "import matplotlib.pyplot as plt\n",
    "import matplotlib_inline\n",
    "import numpy as np\n",
    "import phfit\n",
    "import toolkit2lps\n",
    "import utils\n",
    "from kneed import KneeLocator\n",
    "from stats import boundedParetoCDF, discretize, paretoCDF, phaseTypeCDF\n",
    "\n",
    "matplotlib_inline.backend_inline.set_matplotlib_formats('svg')\n",
    "plt.rcParams['figure.figsize'] = [14, 9]"
   ]
  },
  {
   "cell_type": "code",
   "execution_count": null,
   "metadata": {},
   "outputs": [],
   "source": [
    "n = 250\n",
    "fig, [ax0, ax1] = plt.subplots(1, 2)\n",
    "for a in [1.2, 1.1]:\n",
    "    x = np.logspace(1.8, 3.4, n, base=1024)\n",
    "    x, p = boundedParetoCDF(x, alpha=a)\n",
    "\n",
    "    ax0.plot(x, p, label=f'a={a}')\n",
    "    # ax0.plot(x, np.cumsum(p*x)/np.sum(p*x), label=f'a={a}')\n",
    "    # ax0.axvline(x=416436071, color='red', linestyle='--')\n",
    "    ax0.axvline(x=6331208, color='blue', linestyle='--')\n",
    "    x, p = discretize(x, p)\n",
    "    ax1.bar(str(a), np.average(x, weights=p))\n",
    "\n",
    "ax0.legend()\n",
    "ax0.legend()\n",
    "ax0.set_ylabel('cumulative probability')\n",
    "ax0.set_xlabel('x')\n",
    "ax0.set_title('CDF')\n",
    "ax0.set_yscale('log')\n",
    "ax0.set_xscale('log')\n",
    "ax1.set_xlabel('alpha')\n",
    "ax1.set_ylabel('x')\n",
    "ax1.set_title('Mean of distribution')\n",
    "fig.suptitle(f'Pareto ? and mean, n={n} samples exponentially spaced over x and discretized probability')"
   ]
  },
  {
   "cell_type": "code",
   "execution_count": null,
   "metadata": {},
   "outputs": [],
   "source": [
    "n = 250\n",
    "x = np.logspace(1.8, 3.4, n, base=1024)\n",
    "x, p = boundedParetoCDF(x, alpha=1.1)\n",
    "# x, p = discretize(x, p)\n",
    "# cdf = \n",
    "k = KneeLocator(x, p, curve='concave', direction='increasing')\n",
    "k.knee"
   ]
  },
  {
   "cell_type": "code",
   "execution_count": null,
   "metadata": {},
   "outputs": [],
   "source": [
    "np.logspace(1.8, 3.4, 250, base=1024)\n",
    "math.log(300*1024, 1024)"
   ]
  },
  {
   "cell_type": "code",
   "execution_count": null,
   "metadata": {},
   "outputs": [],
   "source": [
    "# x = np.logspace(1.85, 3.6, num=200, base=1024)\n",
    "x = np.logspace(math.log(300*1024, 1024), 3, num=250, base=1024)\n",
    "x, p = boundedParetoCDF(alpha=1.2, x=x)\n",
    "x, p = discretize(x, p)\n",
    "with open('../tests/traffic.cue', 'w') as file:\n",
    "    file.write(f'package tests\\n\\n_connsizespareto: [{\",\".join(map(str,x))}]\\n_connprobpareto: [{\",\".join(map(str,p))}]')\n",
    "print(np.average(x, weights=p))\n",
    "# print(x)\n",
    "# print(p)"
   ]
  },
  {
   "cell_type": "code",
   "execution_count": null,
   "metadata": {},
   "outputs": [],
   "source": [
    "# with open('../PhFit/data', 'w') as file:\n",
    "#     n = 250\n",
    "#     x = np.logspace(math.log(300*1024, 1024), 3, n, base=1024)\n",
    "#     x, p = paretoCDF(a=1.2, x=x)\n",
    "#     # x, p = discretize(x, p)\n",
    "#     for xi, pi in zip(x, p):\n",
    "#         if 0 < pi < 1:\n",
    "#             file.write(f'{xi} {pi}\\n')"
   ]
  },
  {
   "cell_type": "code",
   "execution_count": null,
   "metadata": {},
   "outputs": [],
   "source": [
    "# x = np.logspace(1.85, 3.6, num=200, base=1024)\n",
    "x = np.logspace(math.log(300*1024, 1024), 3, num=250, base=1024)\n",
    "x, p = boundedParetoCDF(x, alpha=1.2)\n",
    "# x = x * 1.05\n",
    "a, b = phfit.contfit(x, p, 4, 3)\n",
    "toolkit2lps.optimal_threshold(a, b, body=4, tail=3, thmin=3e5, thmax=1e9, rho=0.875)"
   ]
  },
  {
   "cell_type": "code",
   "execution_count": null,
   "metadata": {},
   "outputs": [],
   "source": [
    "fig, ax = plt.subplots()\n",
    "\n",
    "\n",
    "def f(x, y):\n",
    "    return discretize(x, y)\n",
    "    return x, y\n",
    "\n",
    "\n",
    "x = np.logspace(1.8, 3.2, num=1000, base=1024)\n",
    "x, p = boundedParetoCDF(x, alpha=1.2)\n",
    "ax.plot(*f(x, p), label='bounded pareto')\n",
    "\n",
    "a, b = phfit.contfit(x, p, 4, 3)\n",
    "ax.plot(*f(x, phaseTypeCDF(x, a, b)), label='bounded pareto phfit')\n",
    "\n",
    "\n",
    "x = np.logspace(1.8, 4, num=1000, base=1024)\n",
    "x, p = paretoCDF(x, alpha=1.2)\n",
    "ax.plot(*f(x, p), label='unbounded pareto')\n",
    "\n",
    "a, b = phfit.contfit(x, p, 4, 3)\n",
    "ax.plot(*f(x, phaseTypeCDF(x, a, b)), label='unbounded pareto phfit')\n",
    "\n",
    "\n",
    "ax.set_xscale('log')\n",
    "ax.set_yscale('log')\n",
    "ax.xaxis.set_major_formatter(lambda x, _: utils.prettyprint_bytes(x))\n",
    "ax.legend()"
   ]
  },
  {
   "cell_type": "code",
   "execution_count": null,
   "metadata": {},
   "outputs": [],
   "source": [
    "n = 250\n",
    "x = np.logspace(math.log(300*1024, 1024), 3, n, base=1024)\n",
    "x, p = boundedParetoCDF(x, alpha=1.2)\n"
   ]
  }
 ],
 "metadata": {
  "kernelspec": {
   "display_name": ".venv",
   "language": "python",
   "name": "python3"
  },
  "language_info": {
   "codemirror_mode": {
    "name": "ipython",
    "version": 3
   },
   "file_extension": ".py",
   "mimetype": "text/x-python",
   "name": "python",
   "nbconvert_exporter": "python",
   "pygments_lexer": "ipython3",
   "version": "3.12.3"
  }
 },
 "nbformat": 4,
 "nbformat_minor": 2
}
